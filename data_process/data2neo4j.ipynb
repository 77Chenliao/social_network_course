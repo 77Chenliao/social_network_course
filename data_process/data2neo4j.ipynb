{
 "cells": [
  {
   "cell_type": "code",
   "execution_count": 1,
   "metadata": {},
   "outputs": [
    {
     "name": "stdout",
     "output_type": "stream",
     "text": [
      "第0层节点： 13\n",
      "第1层节点： 46039\n",
      "第2层节点： 195362\n"
     ]
    }
   ],
   "source": [
    "from collections import Counter\n",
    "import sys\n",
    "sys.path.append('..')\n",
    "import config\n",
    "import os\n",
    "\n",
    "data_path_prefix = config.data_path\n",
    "neo4j_output_path = config.neo4j_path\n",
    "os.makedirs(data_path_prefix, exist_ok=True)\n",
    "os.makedirs(neo4j_output_path, exist_ok=True)\n",
    "\n",
    "# 读取关系边文件\n",
    "edges_file = os.path.join(data_path_prefix, '第0层+第1层+第2层关系边.txt')\n",
    "\n",
    "# 初始化数据结构\n",
    "level_0_nodes = set()\n",
    "level_1_nodes = set()\n",
    "level_2_nodes = set()\n",
    "all_nodes = []\n",
    "\n",
    "# 读取文件并统计每个节点出现的次数\n",
    "with open(edges_file, 'r') as file:\n",
    "    for line in file:\n",
    "        node_a, node_b = line.strip().split('\\t')\n",
    "        all_nodes.extend([node_a])\n",
    "\n",
    "# 统计频率\n",
    "node_counts = Counter(all_nodes)\n",
    "\n",
    "# 获取第0层节点（出现频率最高的13个节点）\n",
    "most_common_nodes = node_counts.most_common(13)\n",
    "for node, count in most_common_nodes:\n",
    "    level_0_nodes.add(node)\n",
    "\n",
    "# 获取第1层和第2层节点\n",
    "with open(edges_file, 'r') as file:\n",
    "    for line in file:\n",
    "        node_a, node_b = line.strip().split('\\t')\n",
    "        if node_a in level_0_nodes:\n",
    "            level_1_nodes.add(node_b)\n",
    "        elif node_a in level_1_nodes:\n",
    "            level_2_nodes.add(node_b)\n",
    "\n",
    "# 移除第0层节点和第1层节点中出现的节点\n",
    "level_1_nodes.difference_update(level_0_nodes)\n",
    "level_2_nodes.difference_update(level_0_nodes)\n",
    "level_2_nodes.difference_update(level_1_nodes)\n",
    "\n",
    "# 打印结果\n",
    "print('第0层节点：', len(level_0_nodes))\n",
    "print('第1层节点：', len(level_1_nodes))\n",
    "print('第2层节点：', len(level_2_nodes))\n"
   ]
  },
  {
   "cell_type": "code",
   "execution_count": 6,
   "metadata": {},
   "outputs": [],
   "source": [
    "# 第1层留100个，第2层留200个\n",
    "level_1_nodes = set(list(level_1_nodes)[:1000])\n",
    "level_2_nodes = set(list(level_2_nodes)[:5000])"
   ]
  },
  {
   "cell_type": "code",
   "execution_count": 7,
   "metadata": {},
   "outputs": [
    {
     "name": "stdout",
     "output_type": "stream",
     "text": [
      "users.csv 文件已生成\n"
     ]
    }
   ],
   "source": [
    "# 读取关系点文件和转发点文件，合并并去重\n",
    "import csv\n",
    "points_file = os.path.join(data_path_prefix, '第0层+第1层+第2层关系点.txt')\n",
    "repost_points_file = os.path.join(data_path_prefix, '第0层+第1层+第2层关系且转发点.txt')\n",
    "all_points = set()\n",
    "\n",
    "with open(points_file, 'r', encoding='utf-8') as file:\n",
    "    for line in file:\n",
    "        all_points.add(line.strip())\n",
    "\n",
    "with open(repost_points_file, 'r', encoding='utf-8') as file:\n",
    "    for line in file:\n",
    "        all_points.add(line.strip())\n",
    "\n",
    "# 仅保留属于第0层、第1层和第2层的节点\n",
    "filtered_points = {point for point in all_points if point in level_0_nodes or point in level_1_nodes or point in level_2_nodes}\n",
    "\n",
    "# 写入到 users.csv 文件\n",
    "with open(os.path.join(neo4j_output_path, 'users.csv'), 'w', newline='', encoding='utf-8') as outfile:\n",
    "    writer = csv.writer(outfile)\n",
    "    writer.writerow(['USER_ID', 'LEVEL'])\n",
    "    for point in filtered_points:\n",
    "        if point in level_0_nodes:\n",
    "            level = 0\n",
    "        elif point in level_1_nodes:\n",
    "            level = 1\n",
    "        elif point in level_2_nodes:\n",
    "            level = 2\n",
    "        writer.writerow([point, level])\n",
    "\n",
    "print(\"users.csv 文件已生成\")"
   ]
  },
  {
   "cell_type": "code",
   "execution_count": 8,
   "metadata": {},
   "outputs": [
    {
     "name": "stdout",
     "output_type": "stream",
     "text": [
      "relations.csv 文件已生成\n"
     ]
    }
   ],
   "source": [
    "import csv\n",
    "\n",
    "# 定义文件路径\n",
    "edges_file = os.path.join(data_path_prefix, '第0层+第1层+第2层关系边.txt')\n",
    "filtered_points_file = os.path.join(neo4j_output_path, 'users.csv')  # 已生成的节点文件\n",
    "\n",
    "# 读取filtered_points\n",
    "filtered_points = set()\n",
    "with open(filtered_points_file, 'r', encoding='utf-8') as infile:\n",
    "    reader = csv.reader(infile)\n",
    "    next(reader)  # 跳过表头\n",
    "    for row in reader:\n",
    "        filtered_points.add(row[0])\n",
    "\n",
    "# 处理边并生成relations.csv\n",
    "with open(edges_file, 'r', encoding='utf-8') as infile, open(os.path.join(neo4j_output_path, 'relations.csv'), 'w', newline='', encoding='utf-8') as outfile:\n",
    "    writer = csv.writer(outfile)\n",
    "    writer.writerow(['USER_1', 'relation', 'USER_2'])\n",
    "    for line in infile:\n",
    "        node_a, node_b = line.strip().split('\\t')\n",
    "        if node_a in filtered_points and node_b in filtered_points:\n",
    "            writer.writerow([node_b, 'follow', node_a])  # 注意边的方向\n",
    "\n",
    "print(\"relations.csv 文件已生成\")\n"
   ]
  },
  {
   "cell_type": "code",
   "execution_count": 9,
   "metadata": {},
   "outputs": [
    {
     "name": "stdout",
     "output_type": "stream",
     "text": [
      "repost_relations.csv 文件已生成\n"
     ]
    }
   ],
   "source": [
    "import csv\n",
    "\n",
    "# 定义文件路径\n",
    "repost_edges_file = os.path.join(data_path_prefix, '第0层+第1层+第2层关系且转发边.txt')\n",
    "filtered_points_file = os.path.join(neo4j_output_path, 'users.csv')  # 已生成的节点文件\n",
    "\n",
    "# 读取filtered_points\n",
    "filtered_points = set()\n",
    "with open(filtered_points_file, 'r', encoding='utf-8') as infile:\n",
    "    reader = csv.reader(infile)\n",
    "    next(reader)  # 跳过表头\n",
    "    for row in reader:\n",
    "        filtered_points.add(row[0])\n",
    "\n",
    "# 处理边并生成repost_relations.csv\n",
    "with open(repost_edges_file, 'r', encoding='utf-8') as infile, open(os.path.join(neo4j_output_path, 'repost_relations.csv'), 'w', newline='', encoding='utf-8') as outfile:\n",
    "    writer = csv.writer(outfile)\n",
    "    writer.writerow(['USER_1', 'relation', 'USER_2', 'COUNT'])\n",
    "    for line in infile:\n",
    "        node_a, node_b, count = line.strip().split('\\t')\n",
    "        if node_a in filtered_points and node_b in filtered_points:\n",
    "            writer.writerow([node_b, 'follow_and_post', node_a, count])  # 注意边的方向和转发次数\n",
    "\n",
    "print(\"repost_relations.csv 文件已生成\")\n"
   ]
  }
 ],
 "metadata": {
  "kernelspec": {
   "display_name": "Pytorch",
   "language": "python",
   "name": "python3"
  },
  "language_info": {
   "codemirror_mode": {
    "name": "ipython",
    "version": 3
   },
   "file_extension": ".py",
   "mimetype": "text/x-python",
   "name": "python",
   "nbconvert_exporter": "python",
   "pygments_lexer": "ipython3",
   "version": "3.8.16"
  }
 },
 "nbformat": 4,
 "nbformat_minor": 2
}
