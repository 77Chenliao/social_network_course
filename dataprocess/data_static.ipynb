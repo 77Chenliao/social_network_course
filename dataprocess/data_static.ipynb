{
 "cells": [
  {
   "cell_type": "code",
   "execution_count": 1,
   "metadata": {},
   "outputs": [],
   "source": [
    "import pandas as pd\n",
    "import matplotlib.pyplot as plt\n",
    "from collections import Counter\n",
    "\n",
    "# 读取tag.txt文件\n",
    "tags_data = pd.read_csv('../data/tag.txt', sep='\\t', header=None, names=['user_id', 'tags'])\n",
    "\n",
    "# 提取所有的标签，并统计每个标签的出现次数\n",
    "all_tags = tags_data['tags'].dropna().str.split('_').sum()\n",
    "tag_counts = Counter(all_tags)\n",
    "\n",
    "# 将标签出现次数转化为数据框\n",
    "tag_count_distribution = pd.DataFrame.from_dict(tag_counts, orient='index', columns=['count'])\n",
    "\n",
    "# 计算每个标签出现次数的分布\n",
    "tag_occurrence_distribution = tag_count_distribution['count'].value_counts().sort_index()\n",
    "\n",
    "# 绘制散点图\n",
    "plt.figure(figsize=(12, 8))\n",
    "plt.scatter(tag_occurrence_distribution.index, tag_occurrence_distribution.values, color='blue', edgecolor='black')\n",
    "plt.xlabel('Tag Occurrence Count')\n",
    "plt.ylabel('Number of Different Tags')\n",
    "plt.title('Distribution of Tag Occurrence Counts')\n",
    "plt.grid(axis='both', linestyle='--', alpha=0.7)\n",
    "plt.show()\n"
   ]
  }
 ],
 "metadata": {
  "kernelspec": {
   "display_name": "Pytorch",
   "language": "python",
   "name": "python3"
  },
  "language_info": {
   "codemirror_mode": {
    "name": "ipython",
    "version": 3
   },
   "file_extension": ".py",
   "mimetype": "text/x-python",
   "name": "python",
   "nbconvert_exporter": "python",
   "pygments_lexer": "ipython3",
   "version": "3.8.16"
  }
 },
 "nbformat": 4,
 "nbformat_minor": 2
}
